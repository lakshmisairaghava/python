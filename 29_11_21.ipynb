{
  "nbformat": 4,
  "nbformat_minor": 0,
  "metadata": {
    "colab": {
      "name": "29-11-21.ipynb",
      "provenance": [],
      "authorship_tag": "ABX9TyMB6qqDNK3eUxTto7XqcTqx",
      "include_colab_link": true
    },
    "kernelspec": {
      "name": "python3",
      "display_name": "Python 3"
    },
    "language_info": {
      "name": "python"
    }
  },
  "cells": [
    {
      "cell_type": "markdown",
      "metadata": {
        "id": "view-in-github",
        "colab_type": "text"
      },
      "source": [
        "<a href=\"https://colab.research.google.com/github/lakshmisairaghava/python/blob/main/29_11_21.ipynb\" target=\"_parent\"><img src=\"https://colab.research.google.com/assets/colab-badge.svg\" alt=\"Open In Colab\"/></a>"
      ]
    },
    {
      "cell_type": "code",
      "metadata": {
        "colab": {
          "base_uri": "https://localhost:8080/"
        },
        "id": "DVzpXNGu17Yv",
        "outputId": "c202552e-cca6-449d-8d4c-2ef705b48565"
      },
      "source": [
        "for x in range(10):\n",
        "  print(\"Hello\")"
      ],
      "execution_count": 3,
      "outputs": [
        {
          "output_type": "stream",
          "name": "stdout",
          "text": [
            "Hello\n",
            "Hello\n",
            "Hello\n",
            "Hello\n",
            "Hello\n",
            "Hello\n",
            "Hello\n",
            "Hello\n",
            "Hello\n",
            "Hello\n"
          ]
        }
      ]
    },
    {
      "cell_type": "code",
      "metadata": {
        "colab": {
          "base_uri": "https://localhost:8080/"
        },
        "id": "df0Sb5Mg4Ull",
        "outputId": "54d1a506-4439-4957-ebaf-3619814b768a"
      },
      "source": [
        "#write a program to print the sequence as given below output\n",
        "#*\n",
        "#**\n",
        "#***\n",
        "#****\n",
        "#*****\n",
        "#******\n",
        "n=int(input(\"Enter the number of row: \"))\n",
        "for i in range(1,n+1):\n",
        "  print(i*\"*\")"
      ],
      "execution_count": 5,
      "outputs": [
        {
          "output_type": "stream",
          "name": "stdout",
          "text": [
            "Enter the number of row: 6\n",
            "*\n",
            "**\n",
            "***\n",
            "****\n",
            "*****\n",
            "******\n"
          ]
        }
      ]
    },
    {
      "cell_type": "code",
      "metadata": {
        "colab": {
          "base_uri": "https://localhost:8080/"
        },
        "id": "PIjsDmGQ-I2i",
        "outputId": "784d89b2-f27d-4d20-e003-57c44a89d9b1"
      },
      "source": [
        "n=int(input(\"Enter no.of rows:\"))\n",
        "for i in range(1,n+1):\n",
        "  print(\" \"*(n-i),end=\" \")\n",
        "  print(\"* \"*i)"
      ],
      "execution_count": 11,
      "outputs": [
        {
          "output_type": "stream",
          "name": "stdout",
          "text": [
            "Enter no.of rows:5\n",
            "     * \n",
            "    * * \n",
            "   * * * \n",
            "  * * * * \n",
            " * * * * * \n"
          ]
        }
      ]
    },
    {
      "cell_type": "code",
      "metadata": {
        "colab": {
          "base_uri": "https://localhost:8080/"
        },
        "id": "rVaOCZjoAKfW",
        "outputId": "d332c8ef-ccd5-41ff-d6ae-ace1228ca579"
      },
      "source": [
        "x=1\n",
        "while x<=10:\n",
        "  print(x)\n",
        "  x=x+1"
      ],
      "execution_count": 17,
      "outputs": [
        {
          "output_type": "stream",
          "name": "stdout",
          "text": [
            "1\n",
            "2\n",
            "3\n",
            "4\n",
            "5\n",
            "6\n",
            "7\n",
            "8\n",
            "9\n",
            "10\n"
          ]
        }
      ]
    },
    {
      "cell_type": "code",
      "metadata": {
        "colab": {
          "base_uri": "https://localhost:8080/"
        },
        "id": "k8lUXqiFEfdD",
        "outputId": "7597fe50-4e76-408d-f6b6-e2d70fb12cfe"
      },
      "source": [
        "n=int(input(\"Enter a number: \"))\n",
        "sum=0\n",
        "i=1\n",
        "while i<=n:\n",
        "  sum=sum+i\n",
        "  i=i+1\n",
        "print(\"sum of first \",n,\"natural numbers is: \",sum)\n"
      ],
      "execution_count": 26,
      "outputs": [
        {
          "output_type": "stream",
          "name": "stdout",
          "text": [
            "Enter a number: 5\n",
            "sum of first  5 natural numbers is:  15\n"
          ]
        }
      ]
    },
    {
      "cell_type": "code",
      "metadata": {
        "colab": {
          "base_uri": "https://localhost:8080/"
        },
        "id": "-PhmYRGVGnpb",
        "outputId": "0da772ef-bc18-493a-e176-56514e26c576"
      },
      "source": [
        "n=int(input(\"Enter a number to check whether the number is palindrome or not: \"))\n",
        "a=n\n",
        "sum=0\n",
        "while n>0:\n",
        "  r=n%10\n",
        "  sum=sum*10+r\n",
        "  n=n//10\n",
        "if(a==sum):\n",
        "  print(\"Given number\",a,\"is a palindrome\")\n",
        "else:\n",
        "  print(\"given number is not a palindrome\")"
      ],
      "execution_count": 30,
      "outputs": [
        {
          "output_type": "stream",
          "name": "stdout",
          "text": [
            "Enter a number to check whether the number is palindrome or not: 121\n",
            "Given number 121 is a palindrome\n"
          ]
        }
      ]
    },
    {
      "cell_type": "code",
      "metadata": {
        "colab": {
          "base_uri": "https://localhost:8080/"
        },
        "id": "Tu-5PERNG8tB",
        "outputId": "2df2451b-a354-44f9-d925-486c60d37108"
      },
      "source": [
        "n=int(input(\"Enter a number to check whether the number is palindrome or not: \"))\n",
        "a=n\n",
        "sum=0\n",
        "while n>0:\n",
        "  r=n%10\n",
        "  sum=sum*10+r\n",
        "  n=n//10\n",
        "if(a==sum):\n",
        "  print(\"Given number\",a,\"is a palindrome\")\n",
        "else:\n",
        "  print(\"Given number\",a,\"is not a palindrome\")"
      ],
      "execution_count": 32,
      "outputs": [
        {
          "output_type": "stream",
          "name": "stdout",
          "text": [
            "Enter a number to check whether the number is palindrome or not: 345654\n",
            "Given number 345654 is not a palindrome\n"
          ]
        }
      ]
    },
    {
      "cell_type": "code",
      "metadata": {
        "colab": {
          "base_uri": "https://localhost:8080/"
        },
        "id": "lvCHwLypH-AO",
        "outputId": "f0a634c2-58b1-44d3-de7a-5118ce1587f1"
      },
      "source": [
        "x=input(\"Enter the string: \")\n",
        "s1=\"\"\n",
        "for ch in x:\n",
        "  s1=ch+x\n",
        "if int(s1)==int(x):\n",
        "    print(\"number is palindrome\")\n",
        "else:\n",
        "    print(\"number is not palindrome\")"
      ],
      "execution_count": 40,
      "outputs": [
        {
          "output_type": "stream",
          "name": "stdout",
          "text": [
            "Enter the string: 14341\n",
            "number is not palindrome\n"
          ]
        }
      ]
    },
    {
      "cell_type": "code",
      "metadata": {
        "colab": {
          "base_uri": "https://localhost:8080/"
        },
        "id": "3nHjBRM4Mqrm",
        "outputId": "3546564d-e6b3-4ce0-b923-14a478201682"
      },
      "source": [
        "string=input(\"Enter  the string: \")\n",
        "vowels=\"AEIOUaeiou\"\n",
        "vcount=0\n",
        "for ch in string:\n",
        "  if ch in vowels:\n",
        "    vcount=vcount+1\n",
        "print(\"No.of vowels in given string= \",vcount)"
      ],
      "execution_count": 39,
      "outputs": [
        {
          "output_type": "stream",
          "name": "stdout",
          "text": [
            "Enter  the string: Indhu\n",
            "No.of vowels in given string=  2\n"
          ]
        }
      ]
    }
  ]
}