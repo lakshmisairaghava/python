{
  "nbformat": 4,
  "nbformat_minor": 0,
  "metadata": {
    "colab": {
      "name": "03-01-2022.ipynb",
      "provenance": [],
      "authorship_tag": "ABX9TyMWryV13IDjBx0HUzljKRq5",
      "include_colab_link": true
    },
    "kernelspec": {
      "name": "python3",
      "display_name": "Python 3"
    },
    "language_info": {
      "name": "python"
    }
  },
  "cells": [
    {
      "cell_type": "markdown",
      "metadata": {
        "id": "view-in-github",
        "colab_type": "text"
      },
      "source": [
        "<a href=\"https://colab.research.google.com/github/lakshmisairaghava/python/blob/main/03_01_2022.ipynb\" target=\"_parent\"><img src=\"https://colab.research.google.com/assets/colab-badge.svg\" alt=\"Open In Colab\"/></a>"
      ]
    },
    {
      "cell_type": "code",
      "execution_count": 3,
      "metadata": {
        "colab": {
          "base_uri": "https://localhost:8080/"
        },
        "id": "DlMQDI9K_pKQ",
        "outputId": "9f21899e-3937-4e82-f1a1-cba7a9fda8d5"
      },
      "outputs": [
        {
          "output_type": "stream",
          "name": "stdout",
          "text": [
            "Hello, Good Morning...!!\n"
          ]
        }
      ],
      "source": [
        "def display():\n",
        "  print(\"Hello, Good Morning...!!\")\n",
        "display()"
      ]
    },
    {
      "cell_type": "code",
      "source": [
        "def display():\n",
        "  print(\"Hello, Good Morning...!!\")\n",
        "display()\n",
        "def wish():\n",
        "  display()\n",
        "wish()"
      ],
      "metadata": {
        "colab": {
          "base_uri": "https://localhost:8080/"
        },
        "id": "ewgqHmQcAfuC",
        "outputId": "9992bcb5-0fc7-42ce-f308-67e3ab9f6e40"
      },
      "execution_count": 4,
      "outputs": [
        {
          "output_type": "stream",
          "name": "stdout",
          "text": [
            "Hello, Good Morning...!!\n",
            "Hello, Good Morning...!!\n"
          ]
        }
      ]
    },
    {
      "cell_type": "code",
      "source": [
        "def wish(name):\n",
        "  print(\"Hello\",name, \", Good Morning..!!\")\n",
        "wish(\"Indhu\")\n",
        "wish(\"Chandu\")"
      ],
      "metadata": {
        "colab": {
          "base_uri": "https://localhost:8080/"
        },
        "id": "FvKAMQm-BaeM",
        "outputId": "65e79fef-2223-42eb-8eb5-adb6ba337cc3"
      },
      "execution_count": 8,
      "outputs": [
        {
          "output_type": "stream",
          "name": "stdout",
          "text": [
            "Hello Indhu , Good Morning..!!\n",
            "Hello Chandu , Good Morning..!!\n"
          ]
        }
      ]
    },
    {
      "cell_type": "code",
      "source": [
        "def squarelt(num):\n",
        "  print(\"The Square of\",num,\"is\",num*num)\n",
        "squarelt(10)\n",
        "squarelt(9)"
      ],
      "metadata": {
        "colab": {
          "base_uri": "https://localhost:8080/"
        },
        "id": "4GZqr8qJCPD5",
        "outputId": "11468be5-acc2-4e78-9418-e91e522e5b37"
      },
      "execution_count": 9,
      "outputs": [
        {
          "output_type": "stream",
          "name": "stdout",
          "text": [
            "The Square of 10 is 100\n",
            "The Square of 9 is 81\n"
          ]
        }
      ]
    },
    {
      "cell_type": "code",
      "source": [
        "def add(x,y):\n",
        "  return x+y\n",
        "result=add(10,20)\n",
        "print(\"The sum of 10 and 20 is\", result)\n",
        "print(\"The sum of 100 and 200 is\", add(100,200))"
      ],
      "metadata": {
        "colab": {
          "base_uri": "https://localhost:8080/"
        },
        "id": "FdLc59VTDJco",
        "outputId": "5c6a64a9-6afc-47b1-d09f-4f77f93bf3ea"
      },
      "execution_count": 10,
      "outputs": [
        {
          "output_type": "stream",
          "name": "stdout",
          "text": [
            "The sum of 10 and 20 is 30\n",
            "The sum of 100 and 200 is 300\n"
          ]
        }
      ]
    },
    {
      "cell_type": "code",
      "source": [
        "def add(x,y):\n",
        "  return x+y\n",
        "def subtract(x,y):\n",
        "  return x-y\n",
        "def multiply(x,y):\n",
        "  return x*y\n",
        "def divide(x,y):\n",
        "  return x/y\n",
        "print(\"The sum of 10 & 6 is\", add(10,6))\n",
        "print(\"The difference of 10 & 6 is\", subtract(10,6))\n",
        "print(\"The product 10 & 6 is\", multiply(10,6))\n",
        "print(\"The ratio of 10 & 6 is\", divide(10,6))"
      ],
      "metadata": {
        "colab": {
          "base_uri": "https://localhost:8080/"
        },
        "id": "L4czWXTkEHAt",
        "outputId": "eb96cee5-a49c-443c-9d82-da4dfb5d62da"
      },
      "execution_count": 11,
      "outputs": [
        {
          "output_type": "stream",
          "name": "stdout",
          "text": [
            "The sum of 10 & 6 is 16\n",
            "The difference of 10 & 6 is 4\n",
            "The product 10 & 6 is 60\n",
            "The ratio of 10 & 6 is 1.6666666666666667\n"
          ]
        }
      ]
    },
    {
      "cell_type": "code",
      "source": [
        "def arithematicoperations(x,y):\n",
        "  addition=x+y\n",
        "  subtraction=x-y\n",
        "  multiplication=x*y\n",
        "  division=x/y\n",
        "  print(\"The sum of 20 & 10 is\", addition)\n",
        "  print(\"The difference of 20 & 10 is\", subtraction)\n",
        "  print(\"The product 20 & 10 is\", multiplication)\n",
        "  print(\"The ratio of 20 & 10 is\", division)\n",
        "arithematicoperations(20,10)"
      ],
      "metadata": {
        "colab": {
          "base_uri": "https://localhost:8080/"
        },
        "id": "ldLcfX3_QID-",
        "outputId": "58003624-f52c-41e2-8135-c12194cce477"
      },
      "execution_count": 35,
      "outputs": [
        {
          "output_type": "stream",
          "name": "stdout",
          "text": [
            "The sum of 20 & 10 is 30\n",
            "The difference of 20 & 10 is 10\n",
            "The product 20 & 10 is 200\n",
            "The ratio of 20 & 10 is 2.0\n"
          ]
        }
      ]
    },
    {
      "cell_type": "code",
      "source": [
        "def even_odd(number):\n",
        "  if number%2==0:\n",
        "    print(number,\"is even\")\n",
        "  else:\n",
        "    print(number,\"is odd\")\n",
        "even_odd(39)\n",
        "even_odd(40)"
      ],
      "metadata": {
        "colab": {
          "base_uri": "https://localhost:8080/"
        },
        "id": "8XHBlRIJGBZP",
        "outputId": "186ebe60-a02f-49e5-db5d-b33e58ddb1c0"
      },
      "execution_count": 12,
      "outputs": [
        {
          "output_type": "stream",
          "name": "stdout",
          "text": [
            "39 is odd\n",
            "40 is even\n"
          ]
        }
      ]
    },
    {
      "cell_type": "code",
      "source": [
        "def factorial(number):\n",
        "  fact=1\n",
        "  for i in range(1,number+1):\n",
        "    fact=fact*i\n",
        "  return fact\n",
        "Fact=factorial(5)\n",
        "print(\"the factorial of 5 is\",Fact)"
      ],
      "metadata": {
        "colab": {
          "base_uri": "https://localhost:8080/"
        },
        "id": "TQnJ9amwIDr6",
        "outputId": "7168b576-7b77-4cb4-b378-4beb6a0911c5"
      },
      "execution_count": 19,
      "outputs": [
        {
          "output_type": "stream",
          "name": "stdout",
          "text": [
            "the factorial of 5 is 120\n"
          ]
        }
      ]
    },
    {
      "cell_type": "code",
      "source": [
        "def palindrome():\n",
        "  number=eval(input(\"Enter a number:\"))\n",
        "  temp=number\n",
        "  rev=0\n",
        "  while(number>0):\n",
        "    dig=number%10\n",
        "    rev=rev*10+dig\n",
        "    number=number//10\n",
        "  if temp==rev:\n",
        "    print(temp,\"is a palindrome\")\n",
        "  else:\n",
        "    print(temp,\"is not a palindrome\")\n",
        "palindrome()"
      ],
      "metadata": {
        "colab": {
          "base_uri": "https://localhost:8080/"
        },
        "id": "S10ceRLdJmcV",
        "outputId": "0d694190-1b60-4911-a093-399ea0d298e6"
      },
      "execution_count": 28,
      "outputs": [
        {
          "output_type": "stream",
          "name": "stdout",
          "text": [
            "Enter a number:121\n",
            "121 is a palindrome\n"
          ]
        }
      ]
    },
    {
      "cell_type": "code",
      "source": [
        "def squareroot(number):\n",
        "  return number**(1/2)\n",
        "root=squareroot(400)\n",
        "print(\"The square root of 400 is\",root)"
      ],
      "metadata": {
        "colab": {
          "base_uri": "https://localhost:8080/"
        },
        "id": "Ql2BRUkPOeq1",
        "outputId": "204e8636-67cb-4cf9-d62e-68f323dcc74c"
      },
      "execution_count": 32,
      "outputs": [
        {
          "output_type": "stream",
          "name": "stdout",
          "text": [
            "The square root of 400 is 20.0\n"
          ]
        }
      ]
    },
    {
      "cell_type": "code",
      "source": [
        "def sumofn(n):\n",
        "  return n*(n+1)/2\n",
        "sum=sumofn(10)\n",
        "print(\"The sum of 10 natural numbers is\",sum)"
      ],
      "metadata": {
        "colab": {
          "base_uri": "https://localhost:8080/"
        },
        "id": "Inwt3igcO04S",
        "outputId": "e7ffcad1-cf5d-46a6-89a5-ba513a3c60ba"
      },
      "execution_count": 34,
      "outputs": [
        {
          "output_type": "stream",
          "name": "stdout",
          "text": [
            "The sum of 10 natural numbers is 55.0\n"
          ]
        }
      ]
    },
    {
      "cell_type": "code",
      "source": [
        ""
      ],
      "metadata": {
        "id": "SxaT2XudR2Tp"
      },
      "execution_count": null,
      "outputs": []
    }
  ]
}